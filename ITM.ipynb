{
  "nbformat": 4,
  "nbformat_minor": 0,
  "metadata": {
    "colab": {
      "name": "ITM.ipynb",
      "provenance": [],
      "collapsed_sections": []
    },
    "kernelspec": {
      "name": "python3",
      "display_name": "Python 3"
    },
    "language_info": {
      "name": "python"
    }
  },
  "cells": [
    {
      "cell_type": "code",
      "metadata": {
        "id": "oDileXvL4R2x"
      },
      "source": [
        "import json"
      ],
      "execution_count": 5,
      "outputs": []
    },
    {
      "cell_type": "code",
      "metadata": {
        "id": "m_KVoPZqAaHv"
      },
      "source": [
        "record = {'2021001':{'name':'Smart phone', 'price':25000,'qty':10},\n",
        "          '2021002':{'name':'Speaker', 'price':15000,'qty':15},\n",
        "          '2021003':{'name':'PCs', 'price':50000,'qty':7},\n",
        "          '2021004':{'name':'Laptop', 'price':60000,'qty':20},\n",
        "          '2021005':{'name':'TV', 'price':50000,'qty':25},\n",
        "          '2021006':{'name':'Washing Machine', 'price':15000,'qty':5},\n",
        "          '2021007':{'name':'Oven', 'price':10000,'qty':10},\n",
        "          '2021008':{'name':'Water purifier', 'price':7000,'qty':10},\n",
        "          '2021009':{'name':'AC', 'price':25000,'qty':15},\n",
        "          '2021010':{'name':'Tubelight', 'price':200,'qty':50},\n",
        "          '2021011':{'name':'LED Bulb', 'price':150,'qty':70},\n",
        "          '2021012':{'name':'Headphones', 'price':2500,'qty':20},\n",
        "          '2021013':{'name':'Earphones', 'price':500,'qty':50},\n",
        "          '2021014':{'name':'Pods', 'price':10000,'qty':10},\n",
        "          '2021015':{'name':'Air Frier', 'price':9000,'qty':5},\n",
        "          '2021016':{'name':'Printer', 'price':10000,'qty':4},\n",
        "          '2021017':{'name':'Scanner', 'price':5000,'qty':10},\n",
        "          '2021018':{'name':'Flash Drive', 'price':2000,'qty':3},\n",
        "          '2021019':{'name':'Keyboard', 'price':750,'qty':5},\n",
        "          '2021020':{'name':'Mouse', 'price':500,'qty':10},\n",
        "          '2021021':{'name':'Toaster', 'price':2000,'qty':3},\n",
        "          '2021022':{'name':'Juicer', 'price':3000,'qty':4},\n",
        "          '2021023':{'name':'Air purifier', 'price':7500,'qty':2},\n",
        "          '2021024':{'name':'Microwave', 'price':20000,'qty':10},\n",
        "          '2021025':{'name':'Griller', 'price':2500,'qty':5}}"
      ],
      "execution_count": 6,
      "outputs": []
    },
    {
      "cell_type": "code",
      "metadata": {
        "id": "XpO5JpazDyEJ"
      },
      "source": [
        "myrecord=json.dumps(record)"
      ],
      "execution_count": 7,
      "outputs": []
    },
    {
      "cell_type": "code",
      "metadata": {
        "colab": {
          "base_uri": "https://localhost:8080/",
          "height": 154
        },
        "id": "LpeJQX8VElqq",
        "outputId": "734ae66d-9b11-4bb7-de19-e9dd497d8ada"
      },
      "source": [
        "myrecord"
      ],
      "execution_count": 8,
      "outputs": [
        {
          "output_type": "execute_result",
          "data": {
            "application/vnd.google.colaboratory.intrinsic+json": {
              "type": "string"
            },
            "text/plain": [
              "'{\"2021001\": {\"name\": \"Smart phone\", \"price\": 25000, \"qty\": 10}, \"2021002\": {\"name\": \"Speaker\", \"price\": 15000, \"qty\": 15}, \"2021003\": {\"name\": \"PCs\", \"price\": 50000, \"qty\": 7}, \"2021004\": {\"name\": \"Laptop\", \"price\": 60000, \"qty\": 20}, \"2021005\": {\"name\": \"TV\", \"price\": 50000, \"qty\": 25}, \"2021006\": {\"name\": \"Washing Machine\", \"price\": 15000, \"qty\": 5}, \"2021007\": {\"name\": \"Oven\", \"price\": 10000, \"qty\": 10}, \"2021008\": {\"name\": \"Water purifier\", \"price\": 7000, \"qty\": 10}, \"2021009\": {\"name\": \"AC\", \"price\": 25000, \"qty\": 15}, \"2021010\": {\"name\": \"Tubelight\", \"price\": 200, \"qty\": 50}, \"2021011\": {\"name\": \"LED Bulb\", \"price\": 150, \"qty\": 70}, \"2021012\": {\"name\": \"Headphones\", \"price\": 2500, \"qty\": 20}, \"2021013\": {\"name\": \"Earphones\", \"price\": 500, \"qty\": 50}, \"2021014\": {\"name\": \"Pods\", \"price\": 10000, \"qty\": 10}, \"2021015\": {\"name\": \"Air Frier\", \"price\": 9000, \"qty\": 5}, \"2021016\": {\"name\": \"Printer\", \"price\": 10000, \"qty\": 4}, \"2021017\": {\"name\": \"Scanner\", \"price\": 5000, \"qty\": 10}, \"2021018\": {\"name\": \"Flash Drive\", \"price\": 2000, \"qty\": 3}, \"2021019\": {\"name\": \"Keyboard\", \"price\": 750, \"qty\": 5}, \"2021020\": {\"name\": \"Mouse\", \"price\": 500, \"qty\": 10}, \"2021021\": {\"name\": \"Toaster\", \"price\": 2000, \"qty\": 3}, \"2021022\": {\"name\": \"Juicer\", \"price\": 3000, \"qty\": 4}, \"2021023\": {\"name\": \"Air purifier\", \"price\": 7500, \"qty\": 2}, \"2021024\": {\"name\": \"Microwave\", \"price\": 20000, \"qty\": 10}, \"2021025\": {\"name\": \"Griller\", \"price\": 2500, \"qty\": 5}}'"
            ]
          },
          "metadata": {},
          "execution_count": 8
        }
      ]
    },
    {
      "cell_type": "code",
      "metadata": {
        "id": "MV1X6-lREnXY"
      },
      "source": [
        "fd =open('record.json','w')\n",
        "fd.write(myrecord)\n",
        "fd.close()"
      ],
      "execution_count": 9,
      "outputs": []
    },
    {
      "cell_type": "code",
      "metadata": {
        "id": "LCJg4phbGQNF"
      },
      "source": [
        "fd = open('record.json','r')\n",
        "txt=fd.read()\n",
        "fd.close()"
      ],
      "execution_count": 10,
      "outputs": []
    },
    {
      "cell_type": "code",
      "metadata": {
        "id": "la7pPIQ6GlUJ"
      },
      "source": [
        "records=json.loads(txt)"
      ],
      "execution_count": 11,
      "outputs": []
    },
    {
      "cell_type": "markdown",
      "metadata": {
        "id": "fNWFAHY5VvU0"
      },
      "source": [
        "# New Section"
      ]
    },
    {
      "cell_type": "markdown",
      "metadata": {
        "id": "I11FjXX3ErBE"
      },
      "source": [
        "# **Adding New items to inventory**\n"
      ]
    },
    {
      "cell_type": "code",
      "metadata": {
        "colab": {
          "base_uri": "https://localhost:8080/"
        },
        "id": "6-qq1zmlGkQu",
        "outputId": "4df62e25-83ef-400f-ade0-539a38d4f0f0"
      },
      "source": [
        "prod_id=str(input(\"Enter the product id : \"))\n",
        "prod_name=str(input(\"Enter the product name : \"))\n",
        "prod_price=int(input(\"Enter the product price : \"))\n",
        "prod_qty=int(input(\"Enter the product qty : \"))\n",
        "\n",
        "record[prod_id]={'name':prod_name,'price':prod_price,'qty':prod_qty}\n",
        "\n",
        "js=json.dumps(record)\n",
        "\n",
        "fd=open(\"record.json\",'w')\n",
        "fd.write(myrecord)\n",
        "fd.close()"
      ],
      "execution_count": 20,
      "outputs": [
        {
          "name": "stdout",
          "output_type": "stream",
          "text": [
            "Enter the product id : 2021026\n",
            "Enter the product name : Generator\n",
            "Enter the product price : 2000\n",
            "Enter the product qty : 3\n"
          ]
        }
      ]
    },
    {
      "cell_type": "code",
      "metadata": {
        "colab": {
          "base_uri": "https://localhost:8080/"
        },
        "id": "jvZDQetyIv4e",
        "outputId": "1f879220-269e-40ff-e751-01def05370c8"
      },
      "source": [
        "record"
      ],
      "execution_count": 21,
      "outputs": [
        {
          "output_type": "execute_result",
          "data": {
            "text/plain": [
              "{'2021001': {'name': 'Smart phone', 'price': 25000, 'qty': 10},\n",
              " '2021002': {'name': 'Speaker', 'price': 15000, 'qty': 15},\n",
              " '2021003': {'name': 'PCs', 'price': 50000, 'qty': 7},\n",
              " '2021004': {'name': 'Laptop', 'price': 60000, 'qty': 20},\n",
              " '2021005': {'name': 'TV', 'price': 50000, 'qty': 25},\n",
              " '2021006': {'name': 'Washing Machine', 'price': 15000, 'qty': 5},\n",
              " '2021007': {'name': 'Oven', 'price': 10000, 'qty': 10},\n",
              " '2021008': {'name': 'Water purifier', 'price': 7000, 'qty': 10},\n",
              " '2021009': {'name': 'AC', 'price': 25000, 'qty': 15},\n",
              " '2021010': {'name': 'Tubelight', 'price': 200, 'qty': 50},\n",
              " '2021011': {'name': 'LED Bulb', 'price': 150, 'qty': 70},\n",
              " '2021012': {'name': 'Headphones', 'price': 2500, 'qty': 20},\n",
              " '2021013': {'name': 'Earphones', 'price': 500, 'qty': 50},\n",
              " '2021014': {'name': 'Pods', 'price': 10000, 'qty': 10},\n",
              " '2021015': {'name': 'Air Frier', 'price': 9000, 'qty': 5},\n",
              " '2021016': {'name': 'Printer', 'price': 10000, 'qty': 4},\n",
              " '2021017': {'name': 'Scanner', 'price': 5000, 'qty': 10},\n",
              " '2021018': {'name': 'Flash Drive', 'price': 2000, 'qty': 3},\n",
              " '2021019': {'name': 'Keyboard', 'price': 750, 'qty': 5},\n",
              " '2021020': {'name': 'Mouse', 'price': 500, 'qty': 10},\n",
              " '2021021': {'name': 'Toaster', 'price': 2000, 'qty': 3},\n",
              " '2021022': {'name': 'Juicer', 'price': 3000, 'qty': 4},\n",
              " '2021023': {'name': 'Air purifier', 'price': 7500, 'qty': 2},\n",
              " '2021024': {'name': 'Microwave', 'price': 20000, 'qty': 10},\n",
              " '2021025': {'name': 'Griller', 'price': 2500, 'qty': 5},\n",
              " '2021026': {'name': 'Generator', 'price': 2000, 'qty': 3}}"
            ]
          },
          "metadata": {},
          "execution_count": 21
        }
      ]
    },
    {
      "cell_type": "code",
      "metadata": {
        "id": "NeYQzEebJnAn"
      },
      "source": [
        ""
      ],
      "execution_count": null,
      "outputs": []
    },
    {
      "cell_type": "code",
      "metadata": {
        "colab": {
          "base_uri": "https://localhost:8080/"
        },
        "id": "9HkWaL2LJzB2",
        "outputId": "b02a8cf1-ed55-48c2-ed5a-72622a940f7d"
      },
      "source": [
        "prod_id=str(input(\"Enter the product id : \"))\n",
        "prod_name=str(input(\"Enter the product name : \"))\n",
        "prod_price=int(input(\"Enter the product price : \"))\n",
        "prod_qty=int(input(\"Enter the product qty : \"))\n",
        "\n",
        "record[prod_id]={'name':prod_name,'price':prod_price,'qty':prod_qty}\n",
        "\n",
        "js=json.dumps(record)\n",
        "\n",
        "fd=open(\"record.json\",'w')\n",
        "fd.write(myrecord)\n",
        "fd.close()"
      ],
      "execution_count": 25,
      "outputs": [
        {
          "name": "stdout",
          "output_type": "stream",
          "text": [
            "Enter the product id : 2021030\n",
            "Enter the product name : Hair Dryer\n",
            "Enter the product price : 600\n",
            "Enter the product qty : 10\n"
          ]
        }
      ]
    },
    {
      "cell_type": "code",
      "metadata": {
        "colab": {
          "base_uri": "https://localhost:8080/"
        },
        "id": "xYyQqfJyKgMq",
        "outputId": "8af3e13e-dfc6-4713-cf1e-ebb815eff100"
      },
      "source": [
        "record"
      ],
      "execution_count": 26,
      "outputs": [
        {
          "output_type": "execute_result",
          "data": {
            "text/plain": [
              "{'2021001': {'name': 'Smart phone', 'price': 25000, 'qty': 10},\n",
              " '2021002': {'name': 'Speaker', 'price': 15000, 'qty': 15},\n",
              " '2021003': {'name': 'PCs', 'price': 50000, 'qty': 7},\n",
              " '2021004': {'name': 'Laptop', 'price': 60000, 'qty': 20},\n",
              " '2021005': {'name': 'TV', 'price': 50000, 'qty': 25},\n",
              " '2021006': {'name': 'Washing Machine', 'price': 15000, 'qty': 5},\n",
              " '2021007': {'name': 'Oven', 'price': 10000, 'qty': 10},\n",
              " '2021008': {'name': 'Water purifier', 'price': 7000, 'qty': 10},\n",
              " '2021009': {'name': 'AC', 'price': 25000, 'qty': 15},\n",
              " '2021010': {'name': 'Tubelight', 'price': 200, 'qty': 50},\n",
              " '2021011': {'name': 'LED Bulb', 'price': 150, 'qty': 70},\n",
              " '2021012': {'name': 'Headphones', 'price': 2500, 'qty': 20},\n",
              " '2021013': {'name': 'Earphones', 'price': 500, 'qty': 50},\n",
              " '2021014': {'name': 'Pods', 'price': 10000, 'qty': 10},\n",
              " '2021015': {'name': 'Air Frier', 'price': 9000, 'qty': 5},\n",
              " '2021016': {'name': 'Printer', 'price': 10000, 'qty': 4},\n",
              " '2021017': {'name': 'Scanner', 'price': 5000, 'qty': 10},\n",
              " '2021018': {'name': 'Flash Drive', 'price': 2000, 'qty': 3},\n",
              " '2021019': {'name': 'Keyboard', 'price': 750, 'qty': 5},\n",
              " '2021020': {'name': 'Mouse', 'price': 500, 'qty': 10},\n",
              " '2021021': {'name': 'Toaster', 'price': 2000, 'qty': 3},\n",
              " '2021022': {'name': 'Juicer', 'price': 3000, 'qty': 4},\n",
              " '2021023': {'name': 'Air purifier', 'price': 7500, 'qty': 2},\n",
              " '2021024': {'name': 'Microwave', 'price': 20000, 'qty': 10},\n",
              " '2021025': {'name': 'Griller', 'price': 2500, 'qty': 5},\n",
              " '2021026': {'name': 'Generator', 'price': 2000, 'qty': 3},\n",
              " '2021027': {'name': 'Mixer', 'price': 2000, 'qty': 5},\n",
              " '2021028': {'name': 'Freezer', 'price': 13000, 'qty': 2},\n",
              " '2021029': {'name': 'Refrigerator', 'price': 27000, 'qty': 4},\n",
              " '2021030': {'name': 'Hair Dryer', 'price': 600, 'qty': 10}}"
            ]
          },
          "metadata": {},
          "execution_count": 26
        }
      ]
    },
    {
      "cell_type": "code",
      "metadata": {
        "id": "PZHiUJJMKhrL"
      },
      "source": [
        "fd=open(\"record.json\",'w')\n",
        "fd.write(myrecord)\n",
        "fd.close()"
      ],
      "execution_count": 34,
      "outputs": []
    },
    {
      "cell_type": "code",
      "metadata": {
        "id": "3-YqIhsmZYnN"
      },
      "source": [
        "myrecord=json.dumps(record)"
      ],
      "execution_count": 33,
      "outputs": []
    },
    {
      "cell_type": "code",
      "metadata": {
        "id": "H8s9gcIWX6js"
      },
      "source": [
        "fd = open('record.json','r')\n",
        "txt=fd.read()\n",
        "fd.close()"
      ],
      "execution_count": 35,
      "outputs": []
    },
    {
      "cell_type": "code",
      "metadata": {
        "id": "9GhevbcHYESU"
      },
      "source": [
        "records=json.loads(txt)"
      ],
      "execution_count": 36,
      "outputs": []
    },
    {
      "cell_type": "markdown",
      "metadata": {
        "id": "K1xbIvY8LC2e"
      },
      "source": [
        "# **Updating the quantity of items**"
      ]
    },
    {
      "cell_type": "code",
      "metadata": {
        "id": "UeeWnlCYVPqD"
      },
      "source": [
        "fd = open('record2.json','r')\n",
        "txt=fd.read()\n",
        "fd.close()"
      ],
      "execution_count": 38,
      "outputs": []
    },
    {
      "cell_type": "code",
      "metadata": {
        "id": "oWOvuVHrVVUm"
      },
      "source": [
        "records=json.loads(txt)"
      ],
      "execution_count": 39,
      "outputs": []
    },
    {
      "cell_type": "code",
      "metadata": {
        "colab": {
          "base_uri": "https://localhost:8080/"
        },
        "id": "IrmV3jVcWCD-",
        "outputId": "5a9e4597-48fc-45fe-9fac-c84e18a2c8d1"
      },
      "source": [
        "records"
      ],
      "execution_count": 40,
      "outputs": [
        {
          "output_type": "execute_result",
          "data": {
            "text/plain": [
              "{'2021001': {'name': 'Smart phone', 'price': 25000, 'qty': 10},\n",
              " '2021002': {'name': 'Speaker', 'price': 15000, 'qty': 15},\n",
              " '2021003': {'name': 'PCs', 'price': 50000, 'qty': 7},\n",
              " '2021004': {'name': 'Laptop', 'price': 60000, 'qty': 20},\n",
              " '2021005': {'name': 'TV', 'price': 50000, 'qty': 25},\n",
              " '2021006': {'name': 'Washing Machine', 'price': 15000, 'qty': 5},\n",
              " '2021007': {'name': 'Oven', 'price': 10000, 'qty': 10},\n",
              " '2021008': {'name': 'Water purifier', 'price': 7000, 'qty': 10},\n",
              " '2021009': {'name': 'AC', 'price': 25000, 'qty': 15},\n",
              " '2021010': {'name': 'Tubelight', 'price': 200, 'qty': 50},\n",
              " '2021011': {'name': 'LED Bulb', 'price': 150, 'qty': 70},\n",
              " '2021012': {'name': 'Headphones', 'price': 2500, 'qty': 20},\n",
              " '2021013': {'name': 'Earphones', 'price': 500, 'qty': 50},\n",
              " '2021014': {'name': 'Pods', 'price': 10000, 'qty': 10},\n",
              " '2021015': {'name': 'Air Frier', 'price': 9000, 'qty': 5},\n",
              " '2021016': {'name': 'Printer', 'price': 10000, 'qty': 4},\n",
              " '2021017': {'name': 'Scanner', 'price': 5000, 'qty': 10},\n",
              " '2021018': {'name': 'Flash Drive', 'price': 2000, 'qty': 3},\n",
              " '2021019': {'name': 'Keyboard', 'price': 750, 'qty': 5},\n",
              " '2021020': {'name': 'Mouse', 'price': 500, 'qty': 10},\n",
              " '2021021': {'name': 'Toaster', 'price': 2000, 'qty': 3},\n",
              " '2021022': {'name': 'Juicer', 'price': 3000, 'qty': 4},\n",
              " '2021023': {'name': 'Air purifier', 'price': 7500, 'qty': 2},\n",
              " '2021024': {'name': 'Microwave', 'price': 20000, 'qty': 10},\n",
              " '2021025': {'name': 'Griller', 'price': 2500, 'qty': 5},\n",
              " '2021026': {'name': 'Generator', 'price': 2000, 'qty': 3},\n",
              " '2021027': {'name': 'Mixer', 'price': 2000, 'qty': 5},\n",
              " '2021028': {'name': 'Freezer', 'price': 13000, 'qty': 2},\n",
              " '2021029': {'name': 'Refrigerator', 'price': 27000, 'qty': 4},\n",
              " '2021030': {'name': 'Hair Dryer', 'price': 600, 'qty': 10}}"
            ]
          },
          "metadata": {},
          "execution_count": 40
        }
      ]
    },
    {
      "cell_type": "code",
      "metadata": {
        "colab": {
          "base_uri": "https://localhost:8080/"
        },
        "id": "IN2MH_NwihNh",
        "outputId": "f4c7ba54-0f1d-4088-f4c5-3aa3d66f5223"
      },
      "source": [
        "record"
      ],
      "execution_count": 63,
      "outputs": [
        {
          "output_type": "execute_result",
          "data": {
            "text/plain": [
              "{'2021001': {'name': 'Smart phone', 'price': 25000, 'qty': 10},\n",
              " '2021002': {'name': 'Speaker', 'price': 15000, 'qty': 15},\n",
              " '2021003': {'name': 'PCs', 'price': 50000, 'qty': 7},\n",
              " '2021004': {'name': 'Laptop', 'price': 60000, 'qty': 20},\n",
              " '2021005': {'name': 'TV', 'price': 50000, 'qty': 0},\n",
              " '2021006': {'name': 'Washing Machine', 'price': 15000, 'qty': 5},\n",
              " '2021007': {'name': 'Oven', 'price': 10000, 'qty': 10},\n",
              " '2021008': {'name': 'Water purifier', 'price': 7000, 'qty': 10},\n",
              " '2021009': {'name': 'AC', 'price': 25000, 'qty': 15},\n",
              " '2021010': {'name': 'Tubelight', 'price': 200, 'qty': 50},\n",
              " '2021011': {'name': 'LED Bulb', 'price': 150, 'qty': 70},\n",
              " '2021012': {'name': 'Headphones', 'price': 2500, 'qty': 20},\n",
              " '2021013': {'name': 'Earphones', 'price': 500, 'qty': 50},\n",
              " '2021014': {'name': 'Pods', 'price': 10000, 'qty': 10},\n",
              " '2021015': {'name': 'Air Frier', 'price': 9000, 'qty': 5},\n",
              " '2021016': {'name': 'Printer', 'price': 10000, 'qty': 4},\n",
              " '2021017': {'name': 'Scanner', 'price': 5000, 'qty': 10},\n",
              " '2021018': {'name': 'Flash Drive', 'price': 2000, 'qty': 3},\n",
              " '2021019': {'name': 'Keyboard', 'price': 750, 'qty': 5},\n",
              " '2021020': {'name': 'Mouse', 'price': 500, 'qty': 10},\n",
              " '2021021': {'name': 'Toaster', 'price': 2000, 'qty': 3},\n",
              " '2021022': {'name': 'Juicer', 'price': 3000, 'qty': 4},\n",
              " '2021023': {'name': 'Air purifier', 'price': 7500, 'qty': 2},\n",
              " '2021024': {'name': 'Microwave', 'price': 20000, 'qty': 10},\n",
              " '2021025': {'name': 'Griller', 'price': 2500, 'qty': 5},\n",
              " '2021026': {'name': 'Generator', 'price': 2000, 'qty': 3},\n",
              " '2021027': {'name': 'Mixer', 'price': 2000, 'qty': 5},\n",
              " '2021028': {'name': 'Freezer', 'price': 13000, 'qty': 2},\n",
              " '2021029': {'name': 'Refrigerator', 'price': 27000, 'qty': 4},\n",
              " '2021030': {'name': 'Hair Dryer', 'price': 600, 'qty': 0}}"
            ]
          },
          "metadata": {},
          "execution_count": 63
        }
      ]
    },
    {
      "cell_type": "code",
      "metadata": {
        "id": "dn537YMyWZlC"
      },
      "source": [
        "up_prod_id=str(input(\"Enter the product id:\"))\n",
        "up_prod_qty=int(input(\"Enter the product quantity:\"))\n",
        "\n",
        "while up_prod_id in record:\n",
        "  if record[prod_id]['qty']==0:\n",
        "    print(\"Out of Stocks!\")\n",
        "  elif record[prod_id]['qty']>= up_prod_qty:\n",
        "    record[prod_id] ['qty']=record[prod_id]['qty']-up_prod_qty  \n",
        "  else:\n",
        "    \"Product is not Available\"\n",
        "\n",
        "myrecord=json.dumps(record)\n",
        "\n",
        "fd=open(\"record2.json\",'w')\n",
        "fd.write(myrecord)\n",
        "fd.close()   "
      ],
      "execution_count": null,
      "outputs": []
    },
    {
      "cell_type": "code",
      "metadata": {
        "colab": {
          "base_uri": "https://localhost:8080/"
        },
        "id": "o43GbUmAgT9j",
        "outputId": "86a6ff1d-3b79-4964-b80f-4d4aa1ea175e"
      },
      "source": [
        "record[prod_id]['qty']"
      ],
      "execution_count": 51,
      "outputs": [
        {
          "output_type": "execute_result",
          "data": {
            "text/plain": [
              "0"
            ]
          },
          "metadata": {},
          "execution_count": 51
        }
      ]
    },
    {
      "cell_type": "code",
      "metadata": {
        "colab": {
          "base_uri": "https://localhost:8080/"
        },
        "id": "hbcVmJkbhF3b",
        "outputId": "742ed2e2-7e17-4df5-e7e0-6bc1a5b62bec"
      },
      "source": [
        "up_prod_id=str(input(\"Enter the product id:\"))\n",
        "up_prod_qty=int(input(\"Enter the product quantity:\"))"
      ],
      "execution_count": 61,
      "outputs": [
        {
          "name": "stdout",
          "output_type": "stream",
          "text": [
            "Enter the product id:2021005\n",
            "Enter the product quantity:5\n"
          ]
        }
      ]
    },
    {
      "cell_type": "code",
      "metadata": {
        "colab": {
          "base_uri": "https://localhost:8080/"
        },
        "id": "zPyWz7BahScn",
        "outputId": "2ab4a923-6bef-4dd6-dc6b-d04e5ec6c996"
      },
      "source": [
        "record[up_prod_id]['qty']"
      ],
      "execution_count": 62,
      "outputs": [
        {
          "output_type": "execute_result",
          "data": {
            "text/plain": [
              "0"
            ]
          },
          "metadata": {},
          "execution_count": 62
        }
      ]
    },
    {
      "cell_type": "code",
      "metadata": {
        "colab": {
          "base_uri": "https://localhost:8080/"
        },
        "id": "LluIoRdvhZbD",
        "outputId": "304f6abc-7fb1-4ca3-de8c-51e82672b020"
      },
      "source": [
        "\n",
        "if record[up_prod_id]['qty']==0:\n",
        "  print(\"Out of Stocks!\")\n",
        "elif record[up_prod_id]['qty']>= up_prod_qty:\n",
        "  record[up_prod_id] ['qty']=record[up_prod_id]['qty']-up_prod_qty  \n",
        "else:\n",
        "  \"Product is not Available\""
      ],
      "execution_count": 56,
      "outputs": [
        {
          "output_type": "stream",
          "name": "stdout",
          "text": [
            "Out of Stocks!\n"
          ]
        }
      ]
    },
    {
      "cell_type": "code",
      "metadata": {
        "colab": {
          "base_uri": "https://localhost:8080/"
        },
        "id": "FF9woEFcivZ9",
        "outputId": "dd88f1db-9e5d-4865-b924-eefd7073e505"
      },
      "source": [
        "up_prod_id=str(input(\"Enter the product id:\"))\n",
        "up_prod_qty=int(input(\"Enter the product quantity:\"))\n",
        "\n",
        "if record[up_prod_id]['qty']==0:\n",
        "  print(\"Out of Stocks!\")\n",
        "elif record[up_prod_id]['qty']>= up_prod_qty:\n",
        "  record[up_prod_id] ['qty']=record[up_prod_id]['qty']-up_prod_qty  \n",
        "else:\n",
        "  \"Product is not Available\"\n",
        "  \n",
        "myrecord=json.dumps(record)\n",
        "\n",
        "fd=open(\"record2.json\",'w')\n",
        "fd.write(myrecord)\n",
        "fd.close()"
      ],
      "execution_count": 64,
      "outputs": [
        {
          "name": "stdout",
          "output_type": "stream",
          "text": [
            "Enter the product id:2021001\n",
            "Enter the product quantity:1\n"
          ]
        }
      ]
    },
    {
      "cell_type": "code",
      "metadata": {
        "colab": {
          "base_uri": "https://localhost:8080/"
        },
        "id": "xFW-5gtujMLF",
        "outputId": "fabf08ee-6d87-401b-b887-a7e619a93c3e"
      },
      "source": [
        "record"
      ],
      "execution_count": 65,
      "outputs": [
        {
          "output_type": "execute_result",
          "data": {
            "text/plain": [
              "{'2021001': {'name': 'Smart phone', 'price': 25000, 'qty': 9},\n",
              " '2021002': {'name': 'Speaker', 'price': 15000, 'qty': 15},\n",
              " '2021003': {'name': 'PCs', 'price': 50000, 'qty': 7},\n",
              " '2021004': {'name': 'Laptop', 'price': 60000, 'qty': 20},\n",
              " '2021005': {'name': 'TV', 'price': 50000, 'qty': 0},\n",
              " '2021006': {'name': 'Washing Machine', 'price': 15000, 'qty': 5},\n",
              " '2021007': {'name': 'Oven', 'price': 10000, 'qty': 10},\n",
              " '2021008': {'name': 'Water purifier', 'price': 7000, 'qty': 10},\n",
              " '2021009': {'name': 'AC', 'price': 25000, 'qty': 15},\n",
              " '2021010': {'name': 'Tubelight', 'price': 200, 'qty': 50},\n",
              " '2021011': {'name': 'LED Bulb', 'price': 150, 'qty': 70},\n",
              " '2021012': {'name': 'Headphones', 'price': 2500, 'qty': 20},\n",
              " '2021013': {'name': 'Earphones', 'price': 500, 'qty': 50},\n",
              " '2021014': {'name': 'Pods', 'price': 10000, 'qty': 10},\n",
              " '2021015': {'name': 'Air Frier', 'price': 9000, 'qty': 5},\n",
              " '2021016': {'name': 'Printer', 'price': 10000, 'qty': 4},\n",
              " '2021017': {'name': 'Scanner', 'price': 5000, 'qty': 10},\n",
              " '2021018': {'name': 'Flash Drive', 'price': 2000, 'qty': 3},\n",
              " '2021019': {'name': 'Keyboard', 'price': 750, 'qty': 5},\n",
              " '2021020': {'name': 'Mouse', 'price': 500, 'qty': 10},\n",
              " '2021021': {'name': 'Toaster', 'price': 2000, 'qty': 3},\n",
              " '2021022': {'name': 'Juicer', 'price': 3000, 'qty': 4},\n",
              " '2021023': {'name': 'Air purifier', 'price': 7500, 'qty': 2},\n",
              " '2021024': {'name': 'Microwave', 'price': 20000, 'qty': 10},\n",
              " '2021025': {'name': 'Griller', 'price': 2500, 'qty': 5},\n",
              " '2021026': {'name': 'Generator', 'price': 2000, 'qty': 3},\n",
              " '2021027': {'name': 'Mixer', 'price': 2000, 'qty': 5},\n",
              " '2021028': {'name': 'Freezer', 'price': 13000, 'qty': 2},\n",
              " '2021029': {'name': 'Refrigerator', 'price': 27000, 'qty': 4},\n",
              " '2021030': {'name': 'Hair Dryer', 'price': 600, 'qty': 0}}"
            ]
          },
          "metadata": {},
          "execution_count": 65
        }
      ]
    },
    {
      "cell_type": "code",
      "metadata": {
        "id": "OpdfCfi6jNjK"
      },
      "source": [
        ""
      ],
      "execution_count": null,
      "outputs": []
    },
    {
      "cell_type": "markdown",
      "metadata": {
        "id": "L4e-IkQ3jui1"
      },
      "source": [
        "# **Purchase**"
      ]
    },
    {
      "cell_type": "code",
      "metadata": {
        "id": "AmRf1QWVkS63"
      },
      "source": [
        ""
      ],
      "execution_count": null,
      "outputs": []
    },
    {
      "cell_type": "code",
      "metadata": {
        "colab": {
          "base_uri": "https://localhost:8080/"
        },
        "id": "jbWWrHd3j26L",
        "outputId": "8cc9ede4-cdcb-48ad-d346-eadd3f56ce9b"
      },
      "source": [
        "ui_prod_id=str(input(\"Enter the product id:\"))\n",
        "ui_prod_qty=int(input(\"Enter the product quantity:\"))\n",
        "\n",
        "if record[ui_prod_id]['qty']==0:\n",
        "  print(\"Out of Stocks!\")\n",
        "elif record[ui_prod_id]['qty']>= ui_prod_qty:\n",
        "  record[ui_prod_id] ['qty']=record[ui_prod_id]['qty']-ui_prod_qty  \n",
        "else:\n",
        "  \"Product is not Available\"\n",
        "\n",
        "print(\"Product : \",record[ui_prod_id]['name'])\n",
        "print(\"Product Quantity : \",ui_prod_qty) \n",
        "print(\"Price : \",record[ui_prod_id]['price'])\n",
        "print(\"Bill Amount : \",record[ui_prod_id]['price']*ui_prod_qty) \n",
        "  \n",
        "myrecord=json.dumps(record)\n",
        "\n",
        "fd=open(\"record2.json\",'w')\n",
        "fd.write(myrecord)\n",
        "fd.close()"
      ],
      "execution_count": 68,
      "outputs": [
        {
          "output_type": "stream",
          "name": "stdout",
          "text": [
            "Enter the product id:2021008\n",
            "Enter the product quantity:2\n",
            "Product :  Water purifier\n",
            "Product Quantity :  2\n",
            "Price :  7000\n",
            "Bill Amount :  14000\n"
          ]
        }
      ]
    },
    {
      "cell_type": "code",
      "metadata": {
        "colab": {
          "base_uri": "https://localhost:8080/"
        },
        "id": "9jXa8IC3lWQk",
        "outputId": "29987e8e-9ef6-44eb-e0e2-0ec25bd233b1"
      },
      "source": [
        "record"
      ],
      "execution_count": 69,
      "outputs": [
        {
          "output_type": "execute_result",
          "data": {
            "text/plain": [
              "{'2021001': {'name': 'Smart phone', 'price': 25000, 'qty': 9},\n",
              " '2021002': {'name': 'Speaker', 'price': 15000, 'qty': 15},\n",
              " '2021003': {'name': 'PCs', 'price': 50000, 'qty': 7},\n",
              " '2021004': {'name': 'Laptop', 'price': 60000, 'qty': 20},\n",
              " '2021005': {'name': 'TV', 'price': 50000, 'qty': 0},\n",
              " '2021006': {'name': 'Washing Machine', 'price': 15000, 'qty': 5},\n",
              " '2021007': {'name': 'Oven', 'price': 10000, 'qty': 6},\n",
              " '2021008': {'name': 'Water purifier', 'price': 7000, 'qty': 8},\n",
              " '2021009': {'name': 'AC', 'price': 25000, 'qty': 15},\n",
              " '2021010': {'name': 'Tubelight', 'price': 200, 'qty': 50},\n",
              " '2021011': {'name': 'LED Bulb', 'price': 150, 'qty': 70},\n",
              " '2021012': {'name': 'Headphones', 'price': 2500, 'qty': 20},\n",
              " '2021013': {'name': 'Earphones', 'price': 500, 'qty': 50},\n",
              " '2021014': {'name': 'Pods', 'price': 10000, 'qty': 10},\n",
              " '2021015': {'name': 'Air Frier', 'price': 9000, 'qty': 5},\n",
              " '2021016': {'name': 'Printer', 'price': 10000, 'qty': 4},\n",
              " '2021017': {'name': 'Scanner', 'price': 5000, 'qty': 10},\n",
              " '2021018': {'name': 'Flash Drive', 'price': 2000, 'qty': 3},\n",
              " '2021019': {'name': 'Keyboard', 'price': 750, 'qty': 5},\n",
              " '2021020': {'name': 'Mouse', 'price': 500, 'qty': 10},\n",
              " '2021021': {'name': 'Toaster', 'price': 2000, 'qty': 3},\n",
              " '2021022': {'name': 'Juicer', 'price': 3000, 'qty': 4},\n",
              " '2021023': {'name': 'Air purifier', 'price': 7500, 'qty': 2},\n",
              " '2021024': {'name': 'Microwave', 'price': 20000, 'qty': 10},\n",
              " '2021025': {'name': 'Griller', 'price': 2500, 'qty': 5},\n",
              " '2021026': {'name': 'Generator', 'price': 2000, 'qty': 3},\n",
              " '2021027': {'name': 'Mixer', 'price': 2000, 'qty': 5},\n",
              " '2021028': {'name': 'Freezer', 'price': 13000, 'qty': 2},\n",
              " '2021029': {'name': 'Refrigerator', 'price': 27000, 'qty': 4},\n",
              " '2021030': {'name': 'Hair Dryer', 'price': 600, 'qty': 0}}"
            ]
          },
          "metadata": {},
          "execution_count": 69
        }
      ]
    },
    {
      "cell_type": "markdown",
      "metadata": {
        "id": "mJVmGEgllXJI"
      },
      "source": [
        "# **Sales**"
      ]
    },
    {
      "cell_type": "code",
      "metadata": {
        "id": "2zBCpAv5lgQ3"
      },
      "source": [
        "sales = {1 : {'prod_id':ui_prod_id,'prod_name':record[ui_prod_id]['name'],'prod_qty':ui_prod_qty,'prod_price':record[ui_prod_id]['price']*ui_prod_qty }}\n",
        "\n",
        "mysales=json.dumps(sales)\n",
        "\n",
        "fd=open(\"sales.json\",'w')\n",
        "fd.write(mysales)\n",
        "fd.close()"
      ],
      "execution_count": 73,
      "outputs": []
    },
    {
      "cell_type": "code",
      "metadata": {
        "id": "i7Rjsi3rnLr0"
      },
      "source": [
        "fd = open('sales.json','r')\n",
        "txt=fd.read()\n",
        "fd.close()"
      ],
      "execution_count": 74,
      "outputs": []
    },
    {
      "cell_type": "code",
      "metadata": {
        "id": "3huI7L0qnaJf"
      },
      "source": [
        "sales=json.loads(txt)"
      ],
      "execution_count": 75,
      "outputs": []
    },
    {
      "cell_type": "code",
      "metadata": {
        "colab": {
          "base_uri": "https://localhost:8080/"
        },
        "id": "oIp7sOlQpryd",
        "outputId": "5330fbad-2519-475b-a1cb-4c950f256bc7"
      },
      "source": [
        "sales"
      ],
      "execution_count": 76,
      "outputs": [
        {
          "output_type": "execute_result",
          "data": {
            "text/plain": [
              "{'1': {'prod_id': '2021008',\n",
              "  'prod_name': 'Water purifier',\n",
              "  'prod_price': 14000,\n",
              "  'prod_qty': 2}}"
            ]
          },
          "metadata": {},
          "execution_count": 76
        }
      ]
    },
    {
      "cell_type": "code",
      "metadata": {
        "id": "zenva8oRptqm"
      },
      "source": [
        "#Adding items to sales"
      ],
      "execution_count": 77,
      "outputs": []
    },
    {
      "cell_type": "code",
      "metadata": {
        "colab": {
          "base_uri": "https://localhost:8080/"
        },
        "id": "Qi-Z2SlCqUng",
        "outputId": "f76b6bbf-8a10-4076-d65a-326a74f6865e"
      },
      "source": [
        "ui_prod_id=str(input(\"Enter the product id:\"))\n",
        "ui_prod_qty=int(input(\"Enter the product quantity:\"))\n",
        "\n",
        "if record[ui_prod_id]['qty']==0:\n",
        "  print(\"Out of Stocks!\")\n",
        "elif record[ui_prod_id]['qty']>= ui_prod_qty:\n",
        "  record[ui_prod_id] ['qty']=record[ui_prod_id]['qty']-ui_prod_qty  \n",
        "else:\n",
        "  \"Product is not Available\"\n",
        "\n",
        "print(\"Product : \",record[ui_prod_id]['name'])\n",
        "print(\"Product Quantity : \",ui_prod_qty) \n",
        "print(\"Price : \",record[ui_prod_id]['price'])\n",
        "print(\"Bill Amount : \",record[ui_prod_id]['price']*ui_prod_qty) \n",
        "  \n",
        "myrecord=json.dumps(record)\n",
        "\n",
        "fd=open(\"record2.json\",'w')\n",
        "fd.write(myrecord)\n",
        "fd.close()"
      ],
      "execution_count": 112,
      "outputs": [
        {
          "output_type": "stream",
          "name": "stdout",
          "text": [
            "Enter the product id:2021013\n",
            "Enter the product quantity:2\n",
            "Product :  Earphones\n",
            "Product Quantity :  2\n",
            "Price :  500\n",
            "Bill Amount :  1000\n"
          ]
        }
      ]
    },
    {
      "cell_type": "code",
      "metadata": {
        "colab": {
          "base_uri": "https://localhost:8080/"
        },
        "id": "yHMQ2YePrGTg",
        "outputId": "b4cf1792-0071-4ae7-f03e-c69ba384db74"
      },
      "source": [
        "sales_id=int(input(\"Enter the sales id : \"))\n",
        "sales[sales_id]={'prod_id':ui_prod_id,'prod_name':record[ui_prod_id]['name'],'prod_qty':ui_prod_qty,'prod_price':record[ui_prod_id]['price']*ui_prod_qty}\n",
        "\n",
        "mysales=json.dumps(sales)\n",
        "\n",
        "fd=open(\"sales.json\",'w')\n",
        "fd.write(mysales)\n",
        "fd.close()"
      ],
      "execution_count": 113,
      "outputs": [
        {
          "name": "stdout",
          "output_type": "stream",
          "text": [
            "Enter the sales id : 10\n"
          ]
        }
      ]
    },
    {
      "cell_type": "code",
      "metadata": {
        "colab": {
          "base_uri": "https://localhost:8080/"
        },
        "id": "8L_Yqy4jsLg1",
        "outputId": "7040aeeb-b1ee-40c0-cf79-acb08275c067"
      },
      "source": [
        "sales"
      ],
      "execution_count": 115,
      "outputs": [
        {
          "output_type": "execute_result",
          "data": {
            "text/plain": [
              "{'1': {'prod_id': '2021008',\n",
              "  'prod_name': 'Water purifier',\n",
              "  'prod_price': 14000,\n",
              "  'prod_qty': 2},\n",
              " 10: {'prod_id': '2021013',\n",
              "  'prod_name': 'Earphones',\n",
              "  'prod_price': 1000,\n",
              "  'prod_qty': 2},\n",
              " '2': {'prod_id': '2021025',\n",
              "  'prod_name': 'Griller',\n",
              "  'prod_price': 2500,\n",
              "  'prod_qty': 1},\n",
              " '3': {'prod_id': '2021002',\n",
              "  'prod_name': 'Speaker',\n",
              "  'prod_price': 75000,\n",
              "  'prod_qty': 5},\n",
              " '4': {'prod_id': '2021009',\n",
              "  'prod_name': 'AC',\n",
              "  'prod_price': 100000,\n",
              "  'prod_qty': 4},\n",
              " '5': {'Billing Amount': 20000,\n",
              "  'prod_id': '2021024',\n",
              "  'prod_name': 'Microwave',\n",
              "  'prod_qty': 1},\n",
              " '6': {'Prod_price': 18000,\n",
              "  'prod_id': '2021015',\n",
              "  'prod_name': 'Air Frier',\n",
              "  'prod_qty': 2},\n",
              " '7': {'Prod_price': 81000,\n",
              "  'prod_id': '2021029',\n",
              "  'prod_name': 'Refrigerator',\n",
              "  'prod_qty': 3},\n",
              " '8': {'Prod_price': 2000,\n",
              "  'prod_id': '2021018',\n",
              "  'prod_name': 'Flash Drive',\n",
              "  'prod_qty': 1},\n",
              " 9: {'prod_id': '2021020',\n",
              "  'prod_name': 'Mouse',\n",
              "  'prod_price': 2500,\n",
              "  'prod_qty': 5}}"
            ]
          },
          "metadata": {},
          "execution_count": 115
        }
      ]
    },
    {
      "cell_type": "code",
      "metadata": {
        "id": "3wMhCZAzsM2X"
      },
      "source": [
        ""
      ],
      "execution_count": null,
      "outputs": []
    },
    {
      "cell_type": "code",
      "metadata": {
        "colab": {
          "base_uri": "https://localhost:8080/"
        },
        "id": "_t7491HLsVWD",
        "outputId": "6a087125-6d9c-40a1-fe0b-03ca684773f8"
      },
      "source": [
        "ui_prod_id=str(input(\"Enter the product id:\"))\n",
        "ui_prod_qty=int(input(\"Enter the product quantity:\"))\n",
        "\n",
        "if record[ui_prod_id]['qty']==0:\n",
        "  print(\"Out of Stocks!\")\n",
        "elif record[ui_prod_id]['qty']>= ui_prod_qty:\n",
        "  record[ui_prod_id] ['qty']=record[ui_prod_id]['qty']-ui_prod_qty  \n",
        "else:\n",
        "  \"Product is not Available\"\n",
        "\n",
        "print(\"Product : \",record[ui_prod_id]['name'])\n",
        "print(\"Product Quantity : \",ui_prod_qty) \n",
        "print(\"Price : \",record[ui_prod_id]['price'])\n",
        "print(\"Bill Amount : \",record[ui_prod_id]['price']*ui_prod_qty) \n",
        "  \n",
        "myrecord=json.dumps(record)\n",
        "\n",
        "fd=open(\"record2.json\",'w')\n",
        "fd.write(myrecord)\n",
        "fd.close()"
      ],
      "execution_count": 118,
      "outputs": [
        {
          "output_type": "stream",
          "name": "stdout",
          "text": [
            "Enter the product id:2021015\n",
            "Enter the product quantity:2\n",
            "Product :  Air Frier\n",
            "Product Quantity :  2\n",
            "Price :  9000\n",
            "Bill Amount :  18000\n"
          ]
        }
      ]
    },
    {
      "cell_type": "code",
      "metadata": {
        "colab": {
          "base_uri": "https://localhost:8080/"
        },
        "id": "AKK7jgfusYo6",
        "outputId": "794a7700-68d7-49a1-9bfb-78425f1507bd"
      },
      "source": [
        "sales_id=int(input(\"Enter the sales id : \"))\n",
        "sales[sales_id]={'prod_id':ui_prod_id,'prod_name':record[ui_prod_id]['name'],'prod_qty':ui_prod_qty,'Prod_price':record[ui_prod_id]['price']*ui_prod_qty}\n",
        "\n",
        "mysales=json.dumps(sales)\n",
        "\n",
        "fd=open(\"sales.json\",'w')\n",
        "fd.write(mysales)\n",
        "fd.close()"
      ],
      "execution_count": 119,
      "outputs": [
        {
          "name": "stdout",
          "output_type": "stream",
          "text": [
            "Enter the sales id : 10\n"
          ]
        }
      ]
    },
    {
      "cell_type": "code",
      "metadata": {
        "colab": {
          "base_uri": "https://localhost:8080/"
        },
        "id": "ci-6E7Oysqw4",
        "outputId": "7b273c83-5e1e-4c07-fe46-86e4dbf7893a"
      },
      "source": [
        "record"
      ],
      "execution_count": 120,
      "outputs": [
        {
          "output_type": "execute_result",
          "data": {
            "text/plain": [
              "{'2021001': {'name': 'Smart phone', 'price': 25000, 'qty': 9},\n",
              " '2021002': {'name': 'Speaker', 'price': 15000, 'qty': 10},\n",
              " '2021003': {'name': 'PCs', 'price': 50000, 'qty': 7},\n",
              " '2021004': {'name': 'Laptop', 'price': 60000, 'qty': 20},\n",
              " '2021005': {'name': 'TV', 'price': 50000, 'qty': 0},\n",
              " '2021006': {'name': 'Washing Machine', 'price': 15000, 'qty': 5},\n",
              " '2021007': {'name': 'Oven', 'price': 10000, 'qty': 6},\n",
              " '2021008': {'name': 'Water purifier', 'price': 7000, 'qty': 8},\n",
              " '2021009': {'name': 'AC', 'price': 25000, 'qty': 11},\n",
              " '2021010': {'name': 'Tubelight', 'price': 200, 'qty': 50},\n",
              " '2021011': {'name': 'LED Bulb', 'price': 150, 'qty': 70},\n",
              " '2021012': {'name': 'Headphones', 'price': 2500, 'qty': 20},\n",
              " '2021013': {'name': 'Earphones', 'price': 500, 'qty': 48},\n",
              " '2021014': {'name': 'Pods', 'price': 10000, 'qty': 10},\n",
              " '2021015': {'name': 'Air Frier', 'price': 9000, 'qty': 1},\n",
              " '2021016': {'name': 'Printer', 'price': 10000, 'qty': 4},\n",
              " '2021017': {'name': 'Scanner', 'price': 5000, 'qty': 10},\n",
              " '2021018': {'name': 'Flash Drive', 'price': 2000, 'qty': 2},\n",
              " '2021019': {'name': 'Keyboard', 'price': 750, 'qty': 5},\n",
              " '2021020': {'name': 'Mouse', 'price': 500, 'qty': 5},\n",
              " '2021021': {'name': 'Toaster', 'price': 2000, 'qty': 3},\n",
              " '2021022': {'name': 'Juicer', 'price': 3000, 'qty': 4},\n",
              " '2021023': {'name': 'Air purifier', 'price': 7500, 'qty': 2},\n",
              " '2021024': {'name': 'Microwave', 'price': 20000, 'qty': 9},\n",
              " '2021025': {'name': 'Griller', 'price': 2500, 'qty': 4},\n",
              " '2021026': {'name': 'Generator', 'price': 2000, 'qty': 3},\n",
              " '2021027': {'name': 'Mixer', 'price': 2000, 'qty': 5},\n",
              " '2021028': {'name': 'Freezer', 'price': 13000, 'qty': 2},\n",
              " '2021029': {'name': 'Refrigerator', 'price': 27000, 'qty': 1},\n",
              " '2021030': {'name': 'Hair Dryer', 'price': 600, 'qty': 0}}"
            ]
          },
          "metadata": {},
          "execution_count": 120
        }
      ]
    },
    {
      "cell_type": "code",
      "metadata": {
        "colab": {
          "base_uri": "https://localhost:8080/"
        },
        "id": "P8LaWoCJssJw",
        "outputId": "6c487d8e-6c51-4cc9-8ee0-91b0dc315775"
      },
      "source": [
        "sales"
      ],
      "execution_count": 121,
      "outputs": [
        {
          "output_type": "execute_result",
          "data": {
            "text/plain": [
              "{'1': {'prod_id': '2021008',\n",
              "  'prod_name': 'Water purifier',\n",
              "  'prod_price': 14000,\n",
              "  'prod_qty': 2},\n",
              " '10': {'prod_id': '2021013',\n",
              "  'prod_name': 'Earphones',\n",
              "  'prod_price': 1000,\n",
              "  'prod_qty': 2},\n",
              " 10: {'Prod_price': 18000,\n",
              "  'prod_id': '2021015',\n",
              "  'prod_name': 'Air Frier',\n",
              "  'prod_qty': 2},\n",
              " '2': {'prod_id': '2021025',\n",
              "  'prod_name': 'Griller',\n",
              "  'prod_price': 2500,\n",
              "  'prod_qty': 1},\n",
              " '3': {'prod_id': '2021002',\n",
              "  'prod_name': 'Speaker',\n",
              "  'prod_price': 75000,\n",
              "  'prod_qty': 5},\n",
              " '4': {'prod_id': '2021009',\n",
              "  'prod_name': 'AC',\n",
              "  'prod_price': 100000,\n",
              "  'prod_qty': 4},\n",
              " '5': {'Billing Amount': 20000,\n",
              "  'prod_id': '2021024',\n",
              "  'prod_name': 'Microwave',\n",
              "  'prod_qty': 1},\n",
              " '6': {'Prod_price': 18000,\n",
              "  'prod_id': '2021015',\n",
              "  'prod_name': 'Air Frier',\n",
              "  'prod_qty': 2},\n",
              " '7': {'Prod_price': 81000,\n",
              "  'prod_id': '2021029',\n",
              "  'prod_name': 'Refrigerator',\n",
              "  'prod_qty': 3},\n",
              " '8': {'Prod_price': 2000,\n",
              "  'prod_id': '2021018',\n",
              "  'prod_name': 'Flash Drive',\n",
              "  'prod_qty': 1},\n",
              " '9': {'prod_id': '2021020',\n",
              "  'prod_name': 'Mouse',\n",
              "  'prod_price': 2500,\n",
              "  'prod_qty': 5}}"
            ]
          },
          "metadata": {},
          "execution_count": 121
        }
      ]
    },
    {
      "cell_type": "code",
      "metadata": {
        "id": "YWWkzLias8Nv"
      },
      "source": [
        "fd = open('sales.json','r')\n",
        "txt=fd.read()\n",
        "fd.close()"
      ],
      "execution_count": 122,
      "outputs": []
    },
    {
      "cell_type": "code",
      "metadata": {
        "id": "Uwvh8g-YtKn2"
      },
      "source": [
        "sales=json.loads(txt)"
      ],
      "execution_count": 123,
      "outputs": []
    }
  ]
}